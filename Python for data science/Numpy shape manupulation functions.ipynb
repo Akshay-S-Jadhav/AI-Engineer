{
 "cells": [
  {
   "cell_type": "markdown",
   "metadata": {},
   "source": [
    "# Numpy - Is a ML library that can handle big matrices and multidimentional data"
   ]
  },
  {
   "cell_type": "code",
   "execution_count": 2,
   "metadata": {},
   "outputs": [
    {
     "name": "stdout",
     "output_type": "stream",
     "text": [
      "4.0\n",
      "0.0015926529164868282\n"
     ]
    }
   ],
   "source": [
    "#import - this key word is used to import python library\n",
    "\n",
    "import math\n",
    "\n",
    "a = 16\n",
    "print(math.sqrt(a))\n",
    "b = 3.14\n",
    "print(math.sin(b))"
   ]
  },
  {
   "cell_type": "markdown",
   "metadata": {},
   "source": [
    "# Numpy (Numerical python) is the foundational package for mathematical computing in python "
   ]
  },
  {
   "cell_type": "markdown",
   "metadata": {},
   "source": [
    "# Some basic Shape Manipulation functions"
   ]
  },
  {
   "cell_type": "code",
   "execution_count": 41,
   "metadata": {},
   "outputs": [
    {
     "name": "stdout",
     "output_type": "stream",
     "text": [
      "Original Array:\n",
      "[[10 15 17 26 13 19]\n",
      " [12 11 21 24 14 23]]\n",
      "\n",
      "Use of ravel function\n",
      "\n",
      "Flattened Array:\n",
      "[10 15 17 26 13 19 12 11 21 24 14 23]\n",
      "\n",
      "Use of reshape function\n",
      "[[10 15 17 26]\n",
      " [13 19 12 11]\n",
      " [21 24 14 23]]\n",
      "\n",
      "Use of resize function\n",
      "[[10 15 17 26 13 19]\n",
      " [12 11 21 24 14 23]]\n",
      "\n",
      "Use of hsplit function\n",
      "[array([[10, 15],\n",
      "       [12, 11]]), array([[17, 26],\n",
      "       [21, 24]]), array([[13, 19],\n",
      "       [14, 23]])]\n",
      "\n",
      "Use of hstack function\n",
      "[ 2 12 44 23 12  7  3 42  5  1 66 99]\n",
      "\n",
      "Use of reshape function\n"
     ]
    }
   ],
   "source": [
    "import numpy as np # here as is used to give alias name\n",
    "\n",
    "new_cyclist_trail = np.array([[10,15,17,26,13,19],[12,11,21,24,14,23]])\n",
    "print(\"Original Array:\")\n",
    "print(new_cyclist_trail)\n",
    "\n",
    "#ravel function is used to flatten the data\n",
    "print(\"\\nUse of ravel function\")\n",
    "a = new_cyclist_trail.ravel()\n",
    "print(\"\\nFlattened Array:\")\n",
    "print(a)\n",
    "\n",
    "print(\"\\nUse of reshape function\")\n",
    "reshape = new_cyclist_trail.reshape(3,4)\n",
    "print(reshape)\n",
    "\n",
    "print(\"\\nUse of resize function\")\n",
    "resize = new_cyclist_trail.resize(2,6)\n",
    "print(new_cyclist_trail)\n",
    "\n",
    "\n",
    "print(\"\\nUse of hsplit function\")\n",
    "splitarray = np.hsplit(new_cyclist_trail,3)\n",
    "print(splitarray)\n",
    "\n",
    "print(\"\\nUse of hstack function\")\n",
    "array1 = np.array([2,12,44,23,12,7])\n",
    "array2 = np.array([3,42,5,1,66,99])\n",
    "stack_array = np.hstack((array1,array2))\n",
    "print(stack_array)\n"
   ]
  },
  {
   "cell_type": "markdown",
   "metadata": {},
   "source": [
    "### Ravel:\n",
    "In Python, the ravel() function is a method provided by the NumPy library. It is used to flatten multi-dimensional arrays into a one-dimensional array. The function returns a flattened array, but it does not create a copy of the original array. Instead, it returns a flattened view of the input array."
   ]
  },
  {
   "cell_type": "code",
   "execution_count": 13,
   "metadata": {},
   "outputs": [
    {
     "name": "stdout",
     "output_type": "stream",
     "text": [
      "Original Array:\n",
      "[[1 2 3]\n",
      " [4 5 6]]\n",
      "\n",
      "Flattened Array:\n",
      "[1 2 3 4 5 6]\n"
     ]
    }
   ],
   "source": [
    "import numpy as np\n",
    "\n",
    "# Create a 2D array\n",
    "original_array = np.array([[1, 2, 3], [4, 5, 6]])\n",
    "\n",
    "# Use the ravel() function to flatten the array\n",
    "flattened_array = original_array.ravel()\n",
    "\n",
    "print(\"Original Array:\")\n",
    "print(original_array)\n",
    "\n",
    "print(\"\\nFlattened Array:\")\n",
    "print(flattened_array)"
   ]
  },
  {
   "cell_type": "markdown",
   "metadata": {},
   "source": [
    "### Reshape:\n",
    "\n",
    "The reshape function also changes the shape of an array but does not change the data. It only manipulates the view of the array.\n",
    "The total number of elements must remain the same after reshaping.\n",
    "If the size of the new shape is incompatible with the original size, a ValueError will be raised.\n",
    "It returns a new array with the specified shape, but it may share the same data as the original array."
   ]
  },
  {
   "cell_type": "code",
   "execution_count": 24,
   "metadata": {},
   "outputs": [
    {
     "name": "stdout",
     "output_type": "stream",
     "text": [
      "\n",
      "Use of reshape function\n",
      "[[10 15 17 26]\n",
      " [13 19 12 11]\n",
      " [21 24 14 23]]\n"
     ]
    },
    {
     "ename": "ValueError",
     "evalue": "cannot reshape array of size 12 into shape (4,4)",
     "output_type": "error",
     "traceback": [
      "\u001b[1;31m---------------------------------------------------------------------------\u001b[0m",
      "\u001b[1;31mValueError\u001b[0m                                Traceback (most recent call last)",
      "\u001b[1;32m<ipython-input-24-b3799f82088c>\u001b[0m in \u001b[0;36m<module>\u001b[1;34m\u001b[0m\n\u001b[0;32m      2\u001b[0m \u001b[0mreshape\u001b[0m \u001b[1;33m=\u001b[0m \u001b[0mnew_cyclist_trail\u001b[0m\u001b[1;33m.\u001b[0m\u001b[0mreshape\u001b[0m\u001b[1;33m(\u001b[0m\u001b[1;36m3\u001b[0m\u001b[1;33m,\u001b[0m\u001b[1;36m4\u001b[0m\u001b[1;33m)\u001b[0m\u001b[1;33m\u001b[0m\u001b[1;33m\u001b[0m\u001b[0m\n\u001b[0;32m      3\u001b[0m \u001b[0mprint\u001b[0m\u001b[1;33m(\u001b[0m\u001b[0mreshape\u001b[0m\u001b[1;33m)\u001b[0m\u001b[1;33m\u001b[0m\u001b[1;33m\u001b[0m\u001b[0m\n\u001b[1;32m----> 4\u001b[1;33m \u001b[0mreshape1\u001b[0m \u001b[1;33m=\u001b[0m \u001b[0mnew_cyclist_trail\u001b[0m\u001b[1;33m.\u001b[0m\u001b[0mreshape\u001b[0m\u001b[1;33m(\u001b[0m\u001b[1;36m4\u001b[0m\u001b[1;33m,\u001b[0m\u001b[1;36m4\u001b[0m\u001b[1;33m)\u001b[0m\u001b[1;33m\u001b[0m\u001b[1;33m\u001b[0m\u001b[0m\n\u001b[0m\u001b[0;32m      5\u001b[0m \u001b[0mprint\u001b[0m\u001b[1;33m(\u001b[0m\u001b[0mreshape1\u001b[0m\u001b[1;33m)\u001b[0m\u001b[1;33m\u001b[0m\u001b[1;33m\u001b[0m\u001b[0m\n",
      "\u001b[1;31mValueError\u001b[0m: cannot reshape array of size 12 into shape (4,4)"
     ]
    }
   ],
   "source": [
    "print(\"\\nUse of reshape function\")\n",
    "reshape = new_cyclist_trail.reshape(3,4)\n",
    "print(reshape)\n",
    "reshape1 = new_cyclist_trail.reshape(4,4) # this statement will through an error called value error\n",
    "print(reshape1)"
   ]
  },
  {
   "cell_type": "markdown",
   "metadata": {},
   "source": [
    "### Resize\n",
    "The resize function changes the shape and size of an array, potentially adding or removing elements to achieve the desired shape.\n",
    "If the new size is larger than the original size, the data will be repeated or filled with zeros.\n",
    "If the new size is smaller, elements will be discarded.\n",
    "It returns a new array with the specified shape and may create a new copy of the data."
   ]
  },
  {
   "cell_type": "code",
   "execution_count": 26,
   "metadata": {},
   "outputs": [
    {
     "name": "stdout",
     "output_type": "stream",
     "text": [
      "[[1 2 3 4]\n",
      " [5 6 1 2]\n",
      " [3 4 5 6]]\n"
     ]
    }
   ],
   "source": [
    "import numpy as np\n",
    "\n",
    "arr = np.array([[1, 2, 3], [4, 5, 6]])\n",
    "\n",
    "# Resize to a larger shape\n",
    "resized_arr = np.resize(arr, (3, 4))\n",
    "print(resized_arr)"
   ]
  },
  {
   "cell_type": "markdown",
   "metadata": {},
   "source": [
    "### hsplit\n",
    "The hsplit function in NumPy is used to split an array horizontally along its horizontal axis into multiple sub-arrays. Let's see an example of how to use hsplit"
   ]
  },
  {
   "cell_type": "code",
   "execution_count": 32,
   "metadata": {},
   "outputs": [
    {
     "name": "stdout",
     "output_type": "stream",
     "text": [
      "Original Array:\n",
      "[[ 1  2  3  4]\n",
      " [ 5  6  7  8]\n",
      " [ 9 10 11 12]]\n",
      "\n",
      "Split Arrays:\n",
      "[[ 1  2]\n",
      " [ 5  6]\n",
      " [ 9 10]]\n",
      "[[ 3  4]\n",
      " [ 7  8]\n",
      " [11 12]]\n"
     ]
    }
   ],
   "source": [
    "import numpy as np\n",
    "\n",
    "# Create a 2D array\n",
    "original_array = np.array([[1, 2, 3, 4],\n",
    "                           [5, 6, 7, 8],\n",
    "                           [9, 10, 11, 12]])\n",
    "\n",
    "# Use hsplit to split the array horizontally\n",
    "# Here, we are splitting it into two sub-arrays along the second column\n",
    "sub_arrays = np.hsplit(original_array, 2)\n",
    "\n",
    "# Display the original and the resulting sub-arrays\n",
    "print(\"Original Array:\")\n",
    "print(original_array)\n",
    "\n",
    "print(\"\\nSplit Arrays:\")\n",
    "for sub_array in sub_arrays:\n",
    "    print(sub_array)\n"
   ]
  },
  {
   "cell_type": "markdown",
   "metadata": {},
   "source": [
    "### hstack\n",
    "The hstack function in NumPy is used to stack arrays in sequence horizontally (along the second axis, i.e., columns). Here's an example demonstrating the use of hstack:"
   ]
  },
  {
   "cell_type": "code",
   "execution_count": 42,
   "metadata": {},
   "outputs": [
    {
     "name": "stdout",
     "output_type": "stream",
     "text": [
      "Array 1:\n",
      "[1 2 3]\n",
      "\n",
      "Array 2:\n",
      "[4 5 6]\n",
      "\n",
      "Horizontally Stacked Array:\n",
      "[1 2 3 4 5 6]\n"
     ]
    }
   ],
   "source": [
    "import numpy as np\n",
    "\n",
    "# Create two 1D arrays\n",
    "array1 = np.array([1, 2, 3])\n",
    "array2 = np.array([4, 5, 6])\n",
    "\n",
    "# Use hstack to stack the arrays horizontally\n",
    "stacked_array = np.hstack((array1, array2))\n",
    "\n",
    "# Display the original arrays and the resulting stacked array\n",
    "print(\"Array 1:\")\n",
    "print(array1)\n",
    "\n",
    "print(\"\\nArray 2:\")\n",
    "print(array2)\n",
    "\n",
    "print(\"\\nHorizontally Stacked Array:\")\n",
    "print(stacked_array)\n"
   ]
  },
  {
   "cell_type": "markdown",
   "metadata": {},
   "source": [
    "#### You can also use hstack to concatenate arrays with more than one dimension:"
   ]
  },
  {
   "cell_type": "code",
   "execution_count": 43,
   "metadata": {},
   "outputs": [
    {
     "name": "stdout",
     "output_type": "stream",
     "text": [
      "Matrix 1:\n",
      "[[1 2]\n",
      " [3 4]]\n",
      "\n",
      "Matrix 2:\n",
      "[[5 6]\n",
      " [7 8]]\n",
      "\n",
      "Horizontally Stacked Matrix:\n",
      "[[1 2 5 6]\n",
      " [3 4 7 8]]\n"
     ]
    }
   ],
   "source": [
    "# Create two 2D arrays\n",
    "matrix1 = np.array([[1, 2], [3, 4]])\n",
    "matrix2 = np.array([[5, 6], [7, 8]])\n",
    "\n",
    "# Use hstack to stack the matrices horizontally\n",
    "stacked_matrix = np.hstack((matrix1, matrix2))\n",
    "\n",
    "# Display the original matrices and the resulting stacked matrix\n",
    "print(\"Matrix 1:\")\n",
    "print(matrix1)\n",
    "\n",
    "print(\"\\nMatrix 2:\")\n",
    "print(matrix2)\n",
    "\n",
    "print(\"\\nHorizontally Stacked Matrix:\")\n",
    "print(stacked_matrix)\n"
   ]
  },
  {
   "cell_type": "code",
   "execution_count": null,
   "metadata": {},
   "outputs": [],
   "source": []
  }
 ],
 "metadata": {
  "kernelspec": {
   "display_name": "Python 3",
   "language": "python",
   "name": "python3"
  },
  "language_info": {
   "codemirror_mode": {
    "name": "ipython",
    "version": 3
   },
   "file_extension": ".py",
   "mimetype": "text/x-python",
   "name": "python",
   "nbconvert_exporter": "python",
   "pygments_lexer": "ipython3",
   "version": "3.8.5"
  }
 },
 "nbformat": 4,
 "nbformat_minor": 4
}
